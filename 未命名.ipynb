{
 "cells": [
  {
   "cell_type": "code",
   "execution_count": 16,
   "id": "987826d1",
   "metadata": {},
   "outputs": [],
   "source": [
    "def half_search(stu_list:list,stu_id:int):\n",
    "    num_students = len(stu_list)\n",
    "    id_list = []\n",
    "    for i in range(num_students):\n",
    "        id_list.append(int(stu_list[i][0]))\n",
    "    low = 0\n",
    "    high = num_students - 1\n",
    "    mid = (low + high)/2\n",
    "    search = 0\n",
    "    while low <= high:\n",
    "        mid = (low+high)//2\n",
    "        if id_list[mid] == stu_id:\n",
    "            return mid\n",
    "        if id_list[mid] < stu_id:\n",
    "            low = mid+1\n",
    "        else:\n",
    "            high = mid-1\n",
    "        search = search + 1\n",
    "    return None\n",
    "        "
   ]
  },
  {
   "cell_type": "code",
   "execution_count": 22,
   "id": "f2b15983",
   "metadata": {},
   "outputs": [
    {
     "data": {
      "text/plain": [
       "3"
      ]
     },
     "execution_count": 22,
     "metadata": {},
     "output_type": "execute_result"
    }
   ],
   "source": [
    "a = [['2021','b'],['2022','d'],['2023','c'],['2026','c'],['2027','c'],['2029','c']]\n",
    "half_search(a,2026)"
   ]
  },
  {
   "cell_type": "code",
   "execution_count": null,
   "id": "59ea39cb",
   "metadata": {},
   "outputs": [],
   "source": []
  }
 ],
 "metadata": {
  "kernelspec": {
   "display_name": "Python 3 (ipykernel)",
   "language": "python",
   "name": "python3"
  },
  "language_info": {
   "codemirror_mode": {
    "name": "ipython",
    "version": 3
   },
   "file_extension": ".py",
   "mimetype": "text/x-python",
   "name": "python",
   "nbconvert_exporter": "python",
   "pygments_lexer": "ipython3",
   "version": "3.8.10"
  }
 },
 "nbformat": 4,
 "nbformat_minor": 5
}
